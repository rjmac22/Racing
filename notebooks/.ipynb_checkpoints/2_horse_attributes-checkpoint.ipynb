{
 "cells": [
  {
   "cell_type": "markdown",
   "id": "9293f7f9-ae77-405d-8ace-9b820ea7951b",
   "metadata": {},
   "source": [
    "## 🐎 Horse-Level Attributes and Their Impact on Win Rate\n",
    "\n",
    "In this notebook, we explore **attributes of the individual horse** — characteristics known before the race that may influence performance.\n",
    "\n",
    "Unlike contextual factors like field size or going, these features are about the **horse itself**.\n",
    "\n",
    "We focus on:\n",
    "- Physical characteristics (e.g. **age**, **sex**, **weight**)\n",
    "- Basic identifiers (e.g. **saddlecloth number**, **horse name** — for reference only)\n",
    "- Whether a horse **finished or failed to finish**\n",
    "\n",
    "This helps us understand whether certain types of horses — by age, sex, or weight — tend to perform better, and whether these factors should be included in later models.\n"
   ]
  },
  {
   "cell_type": "markdown",
   "id": "4fba72a5-0862-45ff-b05b-851814b66ed4",
   "metadata": {},
   "source": [
    "## 📦 Setup: Libraries, Data Access, and Target Variable\n",
    "\n",
    "This section loads the necessary Python libraries, connects to the database, and sets up the target variable (`won`) for use throughout the notebook.\n"
   ]
  },
  {
   "cell_type": "code",
   "execution_count": null,
   "id": "a5ffe250-d2f8-4724-9171-0e60c7eaa553",
   "metadata": {},
   "outputs": [],
   "source": [
    "# Libraries\n",
    "import pandas as pd\n",
    "import sqlite3\n",
    "import matplotlib.pyplot as plt\n",
    "import seaborn as sns\n",
    "\n",
    "# Display settings\n",
    "pd.set_option('display.max_columns', None)\n",
    "sns.set(style=\"whitegrid\")\n",
    "\n",
    "# Connect to SQLite database\n",
    "conn = sqlite3.connect(\"../db/raceform.db\")\n",
    "\n",
    "# Load the main cleaned table\n",
    "df = pd.read_sql_query(\"SELECT * FROM data_clean\", conn)\n",
    "\n",
    "# Define binary target: 1 if horse finished 1st, else 0\n",
    "df['won'] = (df['pos'] == 1).astype(int)\n",
    "\n",
    "# Copy only flat races for consistency\n",
    "flat_df = df[df['type'].str.lower() == 'flat'].copy()\n"
   ]
  },
  {
   "cell_type": "markdown",
   "id": "0e08ca7c-c68e-455e-8762-17b080967c57",
   "metadata": {},
   "source": [
    "### 🎂 Win Rate by Horse Age\n",
    "\n",
    "Horse age is a fundamental variable in racing. Age influences:\n",
    "- Physical maturity and development\n",
    "- Experience in racing conditions\n",
    "- Eligibility for certain race types (e.g. 2yo maidens, veteran handicaps)\n",
    "\n",
    "In general:\n",
    "- **2-year-olds (2yo)** are inexperienced and often race in separate divisions\n",
    "- **3–5yo** tend to be physically mature and are often at peak performance\n",
    "- **Older horses (6yo+)** may be more experienced but may also decline in ability or be used in lower-grade races\n",
    "\n",
    "In this section, we group runners by age and calculate win rates to see whether age has a clear relationship with performance — and to flag any age bands that stand out as over- or underperforming.\n"
   ]
  },
  {
   "cell_type": "code",
   "execution_count": null,
   "id": "83aa4cdb-aa7f-4c69-992e-8f112eececfb",
   "metadata": {},
   "outputs": [],
   "source": [
    "# Filter valid ages\n",
    "flat_age_df = flat_df[flat_df['age'].notnull()].copy()\n",
    "flat_age_df = flat_age_df[flat_age_df['age'].between(2, 12)]  # Typical racing ages\n",
    "\n",
    "# Group and calculate win rate\n",
    "age_win_rate = (\n",
    "    flat_age_df.groupby('age', observed=True)['won']\n",
    "    .mean()\n",
    "    .reset_index()\n",
    "    .rename(columns={'won': 'win_rate'})\n",
    ")\n",
    "\n",
    "# Plot\n",
    "plt.figure(figsize=(10, 5))\n",
    "sns.barplot(x='age', y='win_rate', data=age_win_rate)\n",
    "plt.title('Win Rate by Horse Age')\n",
    "plt.xlabel('Age')\n",
    "plt.ylabel('Win Rate')\n",
    "plt.grid(axis='y')\n",
    "plt.show()\n"
   ]
  },
  {
   "cell_type": "code",
   "execution_count": null,
   "id": "9b123773-e531-4ed8-940e-ebc1fa466ef1",
   "metadata": {},
   "outputs": [],
   "source": []
  }
 ],
 "metadata": {
  "kernelspec": {
   "display_name": "Python 3 (ipykernel)",
   "language": "python",
   "name": "python3"
  },
  "language_info": {
   "codemirror_mode": {
    "name": "ipython",
    "version": 3
   },
   "file_extension": ".py",
   "mimetype": "text/x-python",
   "name": "python",
   "nbconvert_exporter": "python",
   "pygments_lexer": "ipython3",
   "version": "3.12.7"
  }
 },
 "nbformat": 4,
 "nbformat_minor": 5
}
