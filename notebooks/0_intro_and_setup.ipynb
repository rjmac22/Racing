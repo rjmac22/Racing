{
 "cells": [
  {
   "cell_type": "markdown",
   "id": "a6090a7a-223b-4a86-9b4d-6eab6d2adce7",
   "metadata": {},
   "source": [
    "# 🐎 Horse Racing Analytics – Notebook 0: Setup, Data Extraction & Caching\n",
    "\n",
    "Welcome to this notebook series on horse racing analytics.\n",
    "\n",
    "We’ll be using a large, structured database containing over **30 years of UK and Irish racing data**, drawn from the `raceform.db` SQLite database. The goal of this project is to explore, visualise, and ultimately model horse racing outcomes using Python.\n",
    "\n",
    "We are taking inspiration from the structure of *Football Analytics with Python & R* by Eric Eager — but instead of analysing sports plays, we’ll apply the same data science principles to **horse races**.\n",
    "\n",
    "---\n",
    "\n",
    "## 🎯 Goals of This Notebook\n",
    "\n",
    "This setup notebook handles the **initial project configuration** and data preparation. Specifically, we will:\n",
    "\n",
    "- Connect to the full SQLite database (`raceform.db`)\n",
    "- Load the full history of **Flat racing** results (filtered from the `data_clean` table)\n",
    "- Create a binary outcome column (`won`) for later analysis\n",
    "- Export this cleaned subset to a **Feather file** (`data_flat.feather`) for fast re-use\n",
    "- Verify structure, row count, and basic statistics\n",
    "\n",
    "By the end of this notebook, we’ll have a **lightweight, fast-to-load copy** of our base dataset ready for use across all future notebooks — eliminating the need to re-query the database every time.\n",
    "\n",
    "---\n",
    "\n",
    "## 💾 About the Feather Format\n",
    "\n",
    "**Feather** is a high-speed, binary format designed for data frames. It preserves types, loads in seconds, and takes up less space than CSV. It's ideal for analytical workflows like this, where the same structured dataset is used repeatedly.\n",
    "\n",
    "We'll use it to **cache** the cleaned Flat-racing data so that other notebooks can instantly reload it without querying SQLite again.\n"
   ]
  },
  {
   "cell_type": "markdown",
   "id": "122eca91-6d73-4d9d-ae0f-eaa50016ee88",
   "metadata": {},
   "source": [
    "## 🐎 Different Forms of Horse Racing = Different Contexts\n",
    "\n",
    "Just like in football, where passing plays differ from running plays, horse racing includes multiple **forms of racing** that operate under different rules and dynamics.\n",
    "\n",
    "Our dataset includes a `type` column that distinguishes between race types:\n",
    "\n",
    "- `Flat`: No jumps, often influenced by draw and speed\n",
    "- `Hurdle`: Smaller jumps, more attrition\n",
    "- `Chase`: Larger jumps, higher DNF rates\n",
    "- `NH Flat` or `Bumper`: Pre-jump schooling races\n",
    "- `Hunter`: Steeplechases for amateur riders\n",
    "\n",
    "We must avoid treating all races the same. Each form has unique dynamics, risks, and performance patterns.\n",
    "\n",
    "> 🧠 So from this point onward, we’ll analyse races by type — starting with **Flat racing**, where stalls, draw, and pace play a central role."
   ]
  },
  {
   "cell_type": "code",
   "execution_count": 18,
   "id": "83f5aef2-7d5b-45d5-950e-e7f8a6923634",
   "metadata": {},
   "outputs": [
    {
     "name": "stdout",
     "output_type": "stream",
     "text": [
      "✅ UK+IRE Feather file created\n",
      "Rows saved: 473928\n",
      "Win rate: 10.28%\n"
     ]
    }
   ],
   "source": [
    "import sqlite3\n",
    "import pandas as pd\n",
    "\n",
    "# Connect to the database\n",
    "conn = sqlite3.connect(\"../db/raceform.db\")\n",
    "\n",
    "# Load Flat races only\n",
    "flat_df = pd.read_sql(\"\"\"\n",
    "    SELECT *\n",
    "    FROM data_clean\n",
    "    WHERE type = 'Flat';\n",
    "\"\"\", conn)\n",
    "\n",
    "conn.close()\n",
    "\n",
    "# Filter for UK and IRE courses only\n",
    "def is_uk_or_ire(course):\n",
    "    course = course.lower()\n",
    "    return '(ire)' in course or '(' not in course\n",
    "\n",
    "#Load only Flat races from the database\n",
    "flat_df = flat_df[flat_df['course'].apply(is_uk_or_ire)].copy()\n",
    "\n",
    "# Add binary win flag\n",
    "flat_df['won'] = (flat_df['pos'] == 1).astype(int)\n",
    "\n",
    "# Save as new feather file\n",
    "flat_df.to_feather(\"../db/data_flat_uk_ire.feather\")\n",
    "\n",
    "# Confirm\n",
    "print(\"✅ UK+IRE Feather file created\")\n",
    "print(\"Rows saved:\", len(flat_df))\n",
    "print(\"Win rate:\", f\"{flat_df['won'].mean():.2%}\")\n"
   ]
  },
  {
   "cell_type": "code",
   "execution_count": 19,
   "id": "e2c87bae-1ab2-4631-897f-4837fc13cc92",
   "metadata": {},
   "outputs": [
    {
     "name": "stdout",
     "output_type": "stream",
     "text": [
      "<class 'pandas.core.frame.DataFrame'>\n",
      "Index: 473928 entries, 13 to 1137235\n",
      "Data columns (total 41 columns):\n",
      " #   Column       Non-Null Count   Dtype  \n",
      "---  ------       --------------   -----  \n",
      " 0   date         473928 non-null  object \n",
      " 1   course       473928 non-null  object \n",
      " 2   race_id      473928 non-null  int64  \n",
      " 3   off          473928 non-null  object \n",
      " 4   race_name    473928 non-null  object \n",
      " 5   type         473928 non-null  object \n",
      " 6   class        473928 non-null  object \n",
      " 7   pattern      473928 non-null  object \n",
      " 8   rating_band  473928 non-null  object \n",
      " 9   age_band     473928 non-null  object \n",
      " 10  sex_rest     473928 non-null  object \n",
      " 11  dist         473928 non-null  object \n",
      " 12  going        473928 non-null  object \n",
      " 13  ran          473928 non-null  int64  \n",
      " 14  num          473928 non-null  object \n",
      " 15  pos          473928 non-null  float64\n",
      " 16  draw         466690 non-null  float64\n",
      " 17  ovr_btn      473928 non-null  object \n",
      " 18  btn          473928 non-null  object \n",
      " 19  horse        473928 non-null  object \n",
      " 20  age          473928 non-null  int64  \n",
      " 21  sex          473928 non-null  object \n",
      " 22  wgt          473928 non-null  object \n",
      " 23  hg           473928 non-null  object \n",
      " 24  time         473928 non-null  object \n",
      " 25  sp           473928 non-null  object \n",
      " 26  jockey       473928 non-null  object \n",
      " 27  trainer      473928 non-null  object \n",
      " 28  prize        182497 non-null  float64\n",
      " 29  or           362157 non-null  float64\n",
      " 30  rpr          456971 non-null  float64\n",
      " 31  ts           404374 non-null  float64\n",
      " 32  sire         473928 non-null  object \n",
      " 33  dam          473928 non-null  object \n",
      " 34  damsire      473928 non-null  object \n",
      " 35  owner        473928 non-null  object \n",
      " 36  comment      473928 non-null  object \n",
      " 37  dnf          473928 non-null  int64  \n",
      " 38  prize_raw    473928 non-null  object \n",
      " 39  currency     0 non-null       object \n",
      " 40  won          473928 non-null  int32  \n",
      "dtypes: float64(6), int32(1), int64(4), object(30)\n",
      "memory usage: 150.1+ MB\n",
      "Unique races: 48568\n",
      "Unique horses: 64010\n",
      "\n",
      "Column list:\n",
      "['date', 'course', 'race_id', 'off', 'race_name', 'type', 'class', 'pattern', 'rating_band', 'age_band', 'sex_rest', 'dist', 'going', 'ran', 'num', 'pos', 'draw', 'ovr_btn', 'btn', 'horse', 'age', 'sex', 'wgt', 'hg', 'time', 'sp', 'jockey', 'trainer', 'prize', 'or', 'rpr', 'ts', 'sire', 'dam', 'damsire', 'owner', 'comment', 'dnf', 'prize_raw', 'currency', 'won']\n"
     ]
    }
   ],
   "source": [
    "import pandas as pd\n",
    "\n",
    "# Load cached data\n",
    "df = pd.read_feather(\"../db/data_flat_uk_ire.feather\")\n",
    "\n",
    "# Check structure\n",
    "df.info()\n",
    "\n",
    "# Quick context checks\n",
    "print(\"Unique races:\", df['race_id'].nunique())\n",
    "print(\"Unique horses:\", df['horse'].nunique())\n",
    "\n",
    "# Preview columns\n",
    "print(\"\\nColumn list:\")\n",
    "print(df.columns.tolist())\n"
   ]
  },
  {
   "cell_type": "markdown",
   "id": "c34d9b9e-46f6-4fe6-a162-e01019e55854",
   "metadata": {},
   "source": [
    "## 🧠 Key Observations So Far (UK & IRE Flat Races Only)\n",
    "\n",
    "After filtering for **Flat races held in the UK and Ireland**, we now have a clean, focused dataset containing:\n",
    "\n",
    "### ✅ Structure & Coverage\n",
    "- **473,928 total entries** (one per runner)\n",
    "- **48,568 unique races**\n",
    "- **64,010 unique horses**\n",
    "- **41 columns**, covering race metadata, runner attributes, ratings, pedigree, comments, and outcomes\n",
    "\n",
    "### 📉 Missing Data Highlights\n",
    "- `draw`: present in ~98.5% of rows — mostly missing in very small fields or odd formats\n",
    "- `or` (Official Rating): ~24% missing — may reflect unrated horses or unhandicapped races\n",
    "- `rpr` (Racing Post Rating): ~96% coverage — very usable\n",
    "- `ts` (TopSpeed Rating): ~85% coverage — usable with care\n",
    "- `prize`: ~38% present — only awarded to placed horses\n",
    "- `currency`: entirely empty — safely ignored\n",
    "\n",
    "### 📌 Notes\n",
    "- The dataset now **excludes international venues** (e.g. France, UAE, Hong Kong), which improves consistency across track layouts, draw systems, going conditions, and rules.\n",
    "- This focused version is saved as `data_flat_uk_ire.feather` and will be used in all downstream analysis.\n",
    "\n"
   ]
  },
  {
   "cell_type": "code",
   "execution_count": 20,
   "id": "5e159e00-257b-42c8-8b98-1c30ca917722",
   "metadata": {},
   "outputs": [
    {
     "name": "stdout",
     "output_type": "stream",
     "text": [
      "Win rate in Flat races: 10.28%\n"
     ]
    },
    {
     "data": {
      "image/png": "[encoded data removed]",
      "text/plain": [
       "<Figure size 640x480 with 1 Axes>"
      ]
     },
     "metadata": {},
     "output_type": "display_data"
    }
   ],
   "source": [
    "import seaborn as sns\n",
    "import matplotlib.pyplot as plt\n",
    "\n",
    "sns.set(style='whitegrid')  # Optional: nice default style\n",
    "\n",
    "# Filter for flat races only\n",
    "flat_df = df[df['type'].str.lower() == 'flat'].copy()\n",
    "\n",
    "# Recalculate win column (just to be safe)\n",
    "flat_df['won'] = (flat_df['pos'] == 1).astype(int)\n",
    "\n",
    "# Win rate in flat races\n",
    "flat_win_rate = flat_df['won'].mean()\n",
    "print(f\"Win rate in Flat races: {flat_win_rate:.2%}\")\n",
    "\n",
    "# Bar chart for Flat races\n",
    "sns.countplot(x='won', data=flat_df)\n",
    "plt.title('Win Distribution in Flat Races')\n",
    "plt.xticks([0, 1], ['Did Not Win', 'Won'])\n",
    "plt.xlabel('')\n",
    "plt.ylabel('Number of Horses')\n",
    "plt.show()\n"
   ]
  },
  {
   "cell_type": "markdown",
   "id": "d59678ce-7984-4d41-ab54-f803424043f4",
   "metadata": {},
   "source": [
    "---\n",
    "\n",
    "## ✅ Conclusion\n",
    "\n",
    "We’ve successfully connected to the full racing database, filtered the Flat racing data, and exported it to a `.feather` file for fast access in future notebooks.\n",
    "\n",
    "Key outcomes:\n",
    "- ✔️ Extracted all Flat races from the cleaned `data_clean` table\n",
    "- ✔️ Added a `won` column to mark race winners\n",
    "- ✔️ Saved the data locally as `data_flat.feather`\n",
    "- ✔️ Verified row count and basic win rate\n",
    "\n",
    "This lightweight file can now be reloaded instantly in all future notebooks — making our workflow much faster and more efficient.\n",
    "\n",
    "We are now ready to begin structured analysis of horse- and race-level features, starting with `2_horse_attributes.ipynb`.\n",
    "\n"
   ]
  }
 ],
 "metadata": {
  "kernelspec": {
   "display_name": "Python 3 (ipykernel)",
   "language": "python",
   "name": "python3"
  },
  "language_info": {
   "codemirror_mode": {
    "name": "ipython",
    "version": 3
   },
   "file_extension": ".py",
   "mimetype": "text/x-python",
   "name": "python",
   "nbconvert_exporter": "python",
   "pygments_lexer": "ipython3",
   "version": "3.12.7"
  }
 },
 "nbformat": 4,
 "nbformat_minor": 5
}
